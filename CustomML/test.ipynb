{
 "cells": [
  {
   "cell_type": "code",
   "execution_count": 1,
   "metadata": {},
   "outputs": [],
   "source": [
    "import numpy as np\n",
    "import pandas as pd\n",
    "import matplotlib.pyplot as plt\n",
    "from CustomRegression import PimLinearRegression"
   ]
  },
  {
   "cell_type": "code",
   "execution_count": 2,
   "metadata": {},
   "outputs": [
    {
     "data": {
      "text/html": [
       "<div>\n",
       "<style scoped>\n",
       "    .dataframe tbody tr th:only-of-type {\n",
       "        vertical-align: middle;\n",
       "    }\n",
       "\n",
       "    .dataframe tbody tr th {\n",
       "        vertical-align: top;\n",
       "    }\n",
       "\n",
       "    .dataframe thead th {\n",
       "        text-align: right;\n",
       "    }\n",
       "</style>\n",
       "<table border=\"1\" class=\"dataframe\">\n",
       "  <thead>\n",
       "    <tr style=\"text-align: right;\">\n",
       "      <th></th>\n",
       "      <th>Gender</th>\n",
       "      <th>Height</th>\n",
       "      <th>Weight</th>\n",
       "    </tr>\n",
       "  </thead>\n",
       "  <tbody>\n",
       "    <tr>\n",
       "      <th>0</th>\n",
       "      <td>Male</td>\n",
       "      <td>73.847017</td>\n",
       "      <td>241.893563</td>\n",
       "    </tr>\n",
       "    <tr>\n",
       "      <th>1</th>\n",
       "      <td>Male</td>\n",
       "      <td>68.781904</td>\n",
       "      <td>162.310473</td>\n",
       "    </tr>\n",
       "    <tr>\n",
       "      <th>2</th>\n",
       "      <td>Male</td>\n",
       "      <td>74.110105</td>\n",
       "      <td>212.740856</td>\n",
       "    </tr>\n",
       "    <tr>\n",
       "      <th>3</th>\n",
       "      <td>Male</td>\n",
       "      <td>71.730978</td>\n",
       "      <td>220.042470</td>\n",
       "    </tr>\n",
       "    <tr>\n",
       "      <th>4</th>\n",
       "      <td>Male</td>\n",
       "      <td>69.881796</td>\n",
       "      <td>206.349801</td>\n",
       "    </tr>\n",
       "  </tbody>\n",
       "</table>\n",
       "</div>"
      ],
      "text/plain": [
       "  Gender     Height      Weight\n",
       "0   Male  73.847017  241.893563\n",
       "1   Male  68.781904  162.310473\n",
       "2   Male  74.110105  212.740856\n",
       "3   Male  71.730978  220.042470\n",
       "4   Male  69.881796  206.349801"
      ]
     },
     "execution_count": 2,
     "metadata": {},
     "output_type": "execute_result"
    }
   ],
   "source": [
    "df = pd.read_csv(\"../test/height_weight.csv\")\n",
    "df.head()"
   ]
  },
  {
   "cell_type": "code",
   "execution_count": 3,
   "metadata": {},
   "outputs": [],
   "source": [
    "df[\"Height\"] = round(df[\"Height\"], 2)\n",
    "df[\"Weight\"] = round(df[\"Weight\"], 2)"
   ]
  },
  {
   "cell_type": "code",
   "execution_count": 4,
   "metadata": {},
   "outputs": [
    {
     "data": {
      "text/html": [
       "<div>\n",
       "<style scoped>\n",
       "    .dataframe tbody tr th:only-of-type {\n",
       "        vertical-align: middle;\n",
       "    }\n",
       "\n",
       "    .dataframe tbody tr th {\n",
       "        vertical-align: top;\n",
       "    }\n",
       "\n",
       "    .dataframe thead th {\n",
       "        text-align: right;\n",
       "    }\n",
       "</style>\n",
       "<table border=\"1\" class=\"dataframe\">\n",
       "  <thead>\n",
       "    <tr style=\"text-align: right;\">\n",
       "      <th></th>\n",
       "      <th>Gender</th>\n",
       "      <th>Height</th>\n",
       "      <th>Weight</th>\n",
       "    </tr>\n",
       "  </thead>\n",
       "  <tbody>\n",
       "    <tr>\n",
       "      <th>0</th>\n",
       "      <td>Male</td>\n",
       "      <td>73.85</td>\n",
       "      <td>241.89</td>\n",
       "    </tr>\n",
       "    <tr>\n",
       "      <th>1</th>\n",
       "      <td>Male</td>\n",
       "      <td>68.78</td>\n",
       "      <td>162.31</td>\n",
       "    </tr>\n",
       "    <tr>\n",
       "      <th>2</th>\n",
       "      <td>Male</td>\n",
       "      <td>74.11</td>\n",
       "      <td>212.74</td>\n",
       "    </tr>\n",
       "    <tr>\n",
       "      <th>3</th>\n",
       "      <td>Male</td>\n",
       "      <td>71.73</td>\n",
       "      <td>220.04</td>\n",
       "    </tr>\n",
       "    <tr>\n",
       "      <th>4</th>\n",
       "      <td>Male</td>\n",
       "      <td>69.88</td>\n",
       "      <td>206.35</td>\n",
       "    </tr>\n",
       "  </tbody>\n",
       "</table>\n",
       "</div>"
      ],
      "text/plain": [
       "  Gender  Height  Weight\n",
       "0   Male   73.85  241.89\n",
       "1   Male   68.78  162.31\n",
       "2   Male   74.11  212.74\n",
       "3   Male   71.73  220.04\n",
       "4   Male   69.88  206.35"
      ]
     },
     "execution_count": 4,
     "metadata": {},
     "output_type": "execute_result"
    }
   ],
   "source": [
    "df.head()"
   ]
  },
  {
   "cell_type": "code",
   "execution_count": 5,
   "metadata": {},
   "outputs": [
    {
     "data": {
      "text/html": [
       "<div>\n",
       "<style scoped>\n",
       "    .dataframe tbody tr th:only-of-type {\n",
       "        vertical-align: middle;\n",
       "    }\n",
       "\n",
       "    .dataframe tbody tr th {\n",
       "        vertical-align: top;\n",
       "    }\n",
       "\n",
       "    .dataframe thead th {\n",
       "        text-align: right;\n",
       "    }\n",
       "</style>\n",
       "<table border=\"1\" class=\"dataframe\">\n",
       "  <thead>\n",
       "    <tr style=\"text-align: right;\">\n",
       "      <th></th>\n",
       "      <th>Height</th>\n",
       "      <th>Weight</th>\n",
       "    </tr>\n",
       "  </thead>\n",
       "  <tbody>\n",
       "    <tr>\n",
       "      <th>0</th>\n",
       "      <td>73.85</td>\n",
       "      <td>241.89</td>\n",
       "    </tr>\n",
       "    <tr>\n",
       "      <th>1</th>\n",
       "      <td>68.78</td>\n",
       "      <td>162.31</td>\n",
       "    </tr>\n",
       "    <tr>\n",
       "      <th>2</th>\n",
       "      <td>74.11</td>\n",
       "      <td>212.74</td>\n",
       "    </tr>\n",
       "    <tr>\n",
       "      <th>3</th>\n",
       "      <td>71.73</td>\n",
       "      <td>220.04</td>\n",
       "    </tr>\n",
       "    <tr>\n",
       "      <th>4</th>\n",
       "      <td>69.88</td>\n",
       "      <td>206.35</td>\n",
       "    </tr>\n",
       "  </tbody>\n",
       "</table>\n",
       "</div>"
      ],
      "text/plain": [
       "   Height  Weight\n",
       "0   73.85  241.89\n",
       "1   68.78  162.31\n",
       "2   74.11  212.74\n",
       "3   71.73  220.04\n",
       "4   69.88  206.35"
      ]
     },
     "execution_count": 5,
     "metadata": {},
     "output_type": "execute_result"
    }
   ],
   "source": [
    "df.drop(\"Gender\", axis=1, inplace=True)\n",
    "df.head()"
   ]
  },
  {
   "cell_type": "code",
   "execution_count": 6,
   "metadata": {},
   "outputs": [
    {
     "name": "stdout",
     "output_type": "stream",
     "text": [
      "[73.85 68.78 74.11 ... 63.87 69.03 61.94]\n",
      "[241.89 162.31 212.74 ... 128.48 163.85 113.65]\n"
     ]
    }
   ],
   "source": [
    "heights = np.array(df[\"Height\"])\n",
    "weights = np.array(df[\"Weight\"])\n",
    "print(heights)\n",
    "print(weights)"
   ]
  },
  {
   "cell_type": "code",
   "execution_count": 7,
   "metadata": {},
   "outputs": [
    {
     "data": {
      "text/plain": [
       "<matplotlib.collections.PathCollection at 0x2815c12c5e0>"
      ]
     },
     "execution_count": 7,
     "metadata": {},
     "output_type": "execute_result"
    },
    {
     "data": {
      "image/png": "[encoded data removed]",
      "text/plain": [
       "<Figure size 432x288 with 1 Axes>"
      ]
     },
     "metadata": {
      "needs_background": "light"
     },
     "output_type": "display_data"
    }
   ],
   "source": [
    "plt.scatter(heights, weights)"
   ]
  },
  {
   "cell_type": "code",
   "execution_count": 8,
   "metadata": {},
   "outputs": [],
   "source": [
    "lr_model = PimLinearRegression(up_rate=10, dp=0.1)"
   ]
  },
  {
   "cell_type": "code",
   "execution_count": 9,
   "metadata": {},
   "outputs": [],
   "source": [
    "lr_model.fit(heights, weights)"
   ]
  },
  {
   "cell_type": "code",
   "execution_count": 10,
   "metadata": {},
   "outputs": [
    {
     "data": {
      "image/png": "[encoded data removed]",
      "text/plain": [
       "<Figure size 432x288 with 1 Axes>"
      ]
     },
     "metadata": {
      "needs_background": "light"
     },
     "output_type": "display_data"
    }
   ],
   "source": [
    "lr_model.evaluation_graph(heights, weights)"
   ]
  },
  {
   "cell_type": "code",
   "execution_count": 11,
   "metadata": {},
   "outputs": [
    {
     "name": "stdout",
     "output_type": "stream",
     "text": [
      "[79.43099999999998, 115.55599999999998, 151.68099999999998, 187.80599999999998]\n"
     ]
    }
   ],
   "source": [
    "pred = lr_model.predict([55, 60, 65, 70])\n",
    "print(pred)"
   ]
  },
  {
   "cell_type": "code",
   "execution_count": 12,
   "metadata": {},
   "outputs": [
    {
     "name": "stdout",
     "output_type": "stream",
     "text": [
      "y = 7.225x + (-317.944)\n"
     ]
    },
    {
     "data": {
      "text/plain": [
       "(7.225, -317.944)"
      ]
     },
     "execution_count": 12,
     "metadata": {},
     "output_type": "execute_result"
    }
   ],
   "source": [
    "lr_model.info()"
   ]
  },
  {
   "cell_type": "code",
   "execution_count": 13,
   "metadata": {
    "scrolled": true
   },
   "outputs": [
    {
     "data": {
      "text/html": [
       "<div>\n",
       "<style scoped>\n",
       "    .dataframe tbody tr th:only-of-type {\n",
       "        vertical-align: middle;\n",
       "    }\n",
       "\n",
       "    .dataframe tbody tr th {\n",
       "        vertical-align: top;\n",
       "    }\n",
       "\n",
       "    .dataframe thead th {\n",
       "        text-align: right;\n",
       "    }\n",
       "</style>\n",
       "<table border=\"1\" class=\"dataframe\">\n",
       "  <thead>\n",
       "    <tr style=\"text-align: right;\">\n",
       "      <th></th>\n",
       "      <th>Age</th>\n",
       "      <th>Gender</th>\n",
       "      <th>Family_Diabetes</th>\n",
       "      <th>highBP</th>\n",
       "      <th>PhysicallyActive</th>\n",
       "      <th>BMI</th>\n",
       "      <th>Smoking</th>\n",
       "      <th>Alcohol</th>\n",
       "      <th>Sleep</th>\n",
       "      <th>SoundSleep</th>\n",
       "      <th>RegularMedicine</th>\n",
       "      <th>JunkFood</th>\n",
       "      <th>Stress</th>\n",
       "      <th>BPLevel</th>\n",
       "      <th>Pregancies</th>\n",
       "      <th>Pdiabetes</th>\n",
       "      <th>UriationFreq</th>\n",
       "      <th>Diabetic</th>\n",
       "    </tr>\n",
       "  </thead>\n",
       "  <tbody>\n",
       "    <tr>\n",
       "      <th>0</th>\n",
       "      <td>50-59</td>\n",
       "      <td>Male</td>\n",
       "      <td>no</td>\n",
       "      <td>yes</td>\n",
       "      <td>one hr or more</td>\n",
       "      <td>39.0</td>\n",
       "      <td>no</td>\n",
       "      <td>no</td>\n",
       "      <td>8</td>\n",
       "      <td>6</td>\n",
       "      <td>no</td>\n",
       "      <td>occasionally</td>\n",
       "      <td>sometimes</td>\n",
       "      <td>high</td>\n",
       "      <td>0.0</td>\n",
       "      <td>0</td>\n",
       "      <td>not much</td>\n",
       "      <td>no</td>\n",
       "    </tr>\n",
       "    <tr>\n",
       "      <th>1</th>\n",
       "      <td>50-59</td>\n",
       "      <td>Male</td>\n",
       "      <td>no</td>\n",
       "      <td>yes</td>\n",
       "      <td>less than half an hr</td>\n",
       "      <td>28.0</td>\n",
       "      <td>no</td>\n",
       "      <td>no</td>\n",
       "      <td>8</td>\n",
       "      <td>6</td>\n",
       "      <td>yes</td>\n",
       "      <td>very often</td>\n",
       "      <td>sometimes</td>\n",
       "      <td>normal</td>\n",
       "      <td>0.0</td>\n",
       "      <td>0</td>\n",
       "      <td>not much</td>\n",
       "      <td>no</td>\n",
       "    </tr>\n",
       "    <tr>\n",
       "      <th>2</th>\n",
       "      <td>40-49</td>\n",
       "      <td>Male</td>\n",
       "      <td>no</td>\n",
       "      <td>no</td>\n",
       "      <td>one hr or more</td>\n",
       "      <td>24.0</td>\n",
       "      <td>no</td>\n",
       "      <td>no</td>\n",
       "      <td>6</td>\n",
       "      <td>6</td>\n",
       "      <td>no</td>\n",
       "      <td>occasionally</td>\n",
       "      <td>sometimes</td>\n",
       "      <td>normal</td>\n",
       "      <td>0.0</td>\n",
       "      <td>0</td>\n",
       "      <td>not much</td>\n",
       "      <td>no</td>\n",
       "    </tr>\n",
       "    <tr>\n",
       "      <th>3</th>\n",
       "      <td>50-59</td>\n",
       "      <td>Male</td>\n",
       "      <td>no</td>\n",
       "      <td>no</td>\n",
       "      <td>one hr or more</td>\n",
       "      <td>23.0</td>\n",
       "      <td>no</td>\n",
       "      <td>no</td>\n",
       "      <td>8</td>\n",
       "      <td>6</td>\n",
       "      <td>no</td>\n",
       "      <td>occasionally</td>\n",
       "      <td>sometimes</td>\n",
       "      <td>normal</td>\n",
       "      <td>0.0</td>\n",
       "      <td>0</td>\n",
       "      <td>not much</td>\n",
       "      <td>no</td>\n",
       "    </tr>\n",
       "    <tr>\n",
       "      <th>4</th>\n",
       "      <td>40-49</td>\n",
       "      <td>Male</td>\n",
       "      <td>no</td>\n",
       "      <td>no</td>\n",
       "      <td>less than half an hr</td>\n",
       "      <td>27.0</td>\n",
       "      <td>no</td>\n",
       "      <td>no</td>\n",
       "      <td>8</td>\n",
       "      <td>8</td>\n",
       "      <td>no</td>\n",
       "      <td>occasionally</td>\n",
       "      <td>sometimes</td>\n",
       "      <td>normal</td>\n",
       "      <td>0.0</td>\n",
       "      <td>0</td>\n",
       "      <td>not much</td>\n",
       "      <td>no</td>\n",
       "    </tr>\n",
       "  </tbody>\n",
       "</table>\n",
       "</div>"
      ],
      "text/plain": [
       "     Age Gender Family_Diabetes highBP      PhysicallyActive   BMI Smoking  \\\n",
       "0  50-59   Male              no    yes        one hr or more  39.0      no   \n",
       "1  50-59   Male              no    yes  less than half an hr  28.0      no   \n",
       "2  40-49   Male              no     no        one hr or more  24.0      no   \n",
       "3  50-59   Male              no     no        one hr or more  23.0      no   \n",
       "4  40-49   Male              no     no  less than half an hr  27.0      no   \n",
       "\n",
       "  Alcohol  Sleep  SoundSleep RegularMedicine      JunkFood     Stress BPLevel  \\\n",
       "0      no      8           6              no  occasionally  sometimes    high   \n",
       "1      no      8           6             yes    very often  sometimes  normal   \n",
       "2      no      6           6              no  occasionally  sometimes  normal   \n",
       "3      no      8           6              no  occasionally  sometimes  normal   \n",
       "4      no      8           8              no  occasionally  sometimes  normal   \n",
       "\n",
       "   Pregancies Pdiabetes UriationFreq Diabetic  \n",
       "0         0.0         0     not much       no  \n",
       "1         0.0         0     not much       no  \n",
       "2         0.0         0     not much       no  \n",
       "3         0.0         0     not much       no  \n",
       "4         0.0         0     not much       no  "
      ]
     },
     "execution_count": 13,
     "metadata": {},
     "output_type": "execute_result"
    }
   ],
   "source": [
    "df = pd.read_csv(\"./diabetes_dataset__2019.csv \")\n",
    "df.head()"
   ]
  },
  {
   "cell_type": "code",
   "execution_count": 14,
   "metadata": {},
   "outputs": [
    {
     "data": {
      "text/html": [
       "<div>\n",
       "<style scoped>\n",
       "    .dataframe tbody tr th:only-of-type {\n",
       "        vertical-align: middle;\n",
       "    }\n",
       "\n",
       "    .dataframe tbody tr th {\n",
       "        vertical-align: top;\n",
       "    }\n",
       "\n",
       "    .dataframe thead th {\n",
       "        text-align: right;\n",
       "    }\n",
       "</style>\n",
       "<table border=\"1\" class=\"dataframe\">\n",
       "  <thead>\n",
       "    <tr style=\"text-align: right;\">\n",
       "      <th></th>\n",
       "      <th>BMI</th>\n",
       "      <th>Sleep</th>\n",
       "      <th>SoundSleep</th>\n",
       "      <th>Pregancies</th>\n",
       "    </tr>\n",
       "  </thead>\n",
       "  <tbody>\n",
       "    <tr>\n",
       "      <th>count</th>\n",
       "      <td>948.000000</td>\n",
       "      <td>952.000000</td>\n",
       "      <td>952.000000</td>\n",
       "      <td>910.000000</td>\n",
       "    </tr>\n",
       "    <tr>\n",
       "      <th>mean</th>\n",
       "      <td>25.763713</td>\n",
       "      <td>6.949580</td>\n",
       "      <td>5.495798</td>\n",
       "      <td>0.386813</td>\n",
       "    </tr>\n",
       "    <tr>\n",
       "      <th>std</th>\n",
       "      <td>5.402595</td>\n",
       "      <td>1.273189</td>\n",
       "      <td>1.865618</td>\n",
       "      <td>0.909455</td>\n",
       "    </tr>\n",
       "    <tr>\n",
       "      <th>min</th>\n",
       "      <td>15.000000</td>\n",
       "      <td>4.000000</td>\n",
       "      <td>0.000000</td>\n",
       "      <td>0.000000</td>\n",
       "    </tr>\n",
       "    <tr>\n",
       "      <th>25%</th>\n",
       "      <td>22.000000</td>\n",
       "      <td>6.000000</td>\n",
       "      <td>4.000000</td>\n",
       "      <td>0.000000</td>\n",
       "    </tr>\n",
       "    <tr>\n",
       "      <th>50%</th>\n",
       "      <td>25.000000</td>\n",
       "      <td>7.000000</td>\n",
       "      <td>6.000000</td>\n",
       "      <td>0.000000</td>\n",
       "    </tr>\n",
       "    <tr>\n",
       "      <th>75%</th>\n",
       "      <td>29.000000</td>\n",
       "      <td>8.000000</td>\n",
       "      <td>7.000000</td>\n",
       "      <td>0.000000</td>\n",
       "    </tr>\n",
       "    <tr>\n",
       "      <th>max</th>\n",
       "      <td>45.000000</td>\n",
       "      <td>11.000000</td>\n",
       "      <td>11.000000</td>\n",
       "      <td>4.000000</td>\n",
       "    </tr>\n",
       "  </tbody>\n",
       "</table>\n",
       "</div>"
      ],
      "text/plain": [
       "              BMI       Sleep  SoundSleep  Pregancies\n",
       "count  948.000000  952.000000  952.000000  910.000000\n",
       "mean    25.763713    6.949580    5.495798    0.386813\n",
       "std      5.402595    1.273189    1.865618    0.909455\n",
       "min     15.000000    4.000000    0.000000    0.000000\n",
       "25%     22.000000    6.000000    4.000000    0.000000\n",
       "50%     25.000000    7.000000    6.000000    0.000000\n",
       "75%     29.000000    8.000000    7.000000    0.000000\n",
       "max     45.000000   11.000000   11.000000    4.000000"
      ]
     },
     "execution_count": 14,
     "metadata": {},
     "output_type": "execute_result"
    }
   ],
   "source": [
    "df.describe()"
   ]
  },
  {
   "cell_type": "code",
   "execution_count": 15,
   "metadata": {},
   "outputs": [
    {
     "data": {
      "text/plain": [
       "Age                  0\n",
       "Gender               0\n",
       "Family_Diabetes      0\n",
       "highBP               0\n",
       "PhysicallyActive     0\n",
       "BMI                  0\n",
       "Smoking              0\n",
       "Alcohol              0\n",
       "Sleep                0\n",
       "SoundSleep           0\n",
       "RegularMedicine      0\n",
       "JunkFood             0\n",
       "Stress               0\n",
       "BPLevel              0\n",
       "Pregancies          42\n",
       "Pdiabetes            1\n",
       "UriationFreq         0\n",
       "Diabetic             1\n",
       "dtype: int64"
      ]
     },
     "execution_count": 15,
     "metadata": {},
     "output_type": "execute_result"
    }
   ],
   "source": [
    "df[\"BMI\"] = df[\"BMI\"].fillna(26)\n",
    "df.isna().sum()"
   ]
  },
  {
   "cell_type": "code",
   "execution_count": 16,
   "metadata": {},
   "outputs": [
    {
     "name": "stdout",
     "output_type": "stream",
     "text": [
      "[39. 28. 24. 23. 27. 21. 24. 20. 23. 20. 20. 26. 21. 22. 15. 34. 22. 24.\n",
      " 24. 22. 30. 24. 24. 20. 24. 21. 20. 27. 29. 18. 32. 21. 26. 31. 26. 21.\n",
      " 28. 24. 27. 21. 27. 24. 36. 21. 22. 21. 38. 40. 35. 24. 18. 23. 19. 26.\n",
      " 30. 27. 18. 29. 19. 21. 24. 31. 22. 19. 27. 26. 21. 26. 23. 26. 18. 19.\n",
      " 24. 33. 31. 23. 23. 20. 28. 26. 24. 24. 17. 28. 23. 24. 19. 15. 22. 23.\n",
      " 18. 21. 21. 21. 22. 25. 20. 24. 21. 26. 27. 26. 24. 21. 22. 23. 28. 32.\n",
      " 33. 24. 28. 30. 30. 26. 27. 22. 26. 18. 22. 21. 26. 26. 26. 31. 33. 30.\n",
      " 23. 29. 17. 24. 26. 27. 21. 26. 20. 22. 21. 26. 21. 21. 24. 24. 26. 32.\n",
      " 34. 30. 42. 33. 23. 27. 25. 28. 28. 33. 33. 28. 28. 36. 33. 28. 28. 33.\n",
      " 38. 33. 38. 36. 33. 33. 38. 36. 33. 38. 38. 33. 33. 38. 32. 33. 22. 24.\n",
      " 23. 27. 24. 18. 20. 19. 28. 19. 25. 25. 24. 27. 19. 25. 28. 25. 24. 21.\n",
      " 23. 28. 20. 18. 25. 28. 27. 20. 20. 17. 26. 21. 29. 29. 24. 23. 23. 29.\n",
      " 19. 23. 17. 23. 24. 25. 35. 33. 34. 36. 30. 28. 35. 24. 22. 30. 22. 22.\n",
      " 27. 23. 27. 29. 39. 28. 24. 23. 27. 21. 24. 20. 23. 20. 20. 26. 21. 22.\n",
      " 15. 34. 22. 24. 24. 22. 30. 24. 24. 20. 24. 21. 20. 27. 29. 18. 32. 21.\n",
      " 26. 31. 26. 21. 28. 24. 27. 21. 27. 24. 36. 21. 22. 21. 38. 40. 35. 24.\n",
      " 18. 23. 19. 26. 30. 27. 18. 29. 19. 21. 24. 31. 22. 19. 27. 26. 21. 26.\n",
      " 23. 26. 18. 19. 24. 33. 31. 23. 23. 20. 28. 26. 24. 24. 17. 28. 23. 24.\n",
      " 19. 15. 22. 23. 18. 21. 21. 21. 22. 25. 20. 24. 21. 26. 27. 26. 24. 21.\n",
      " 22. 23. 28. 32. 33. 24. 28. 30. 30. 27. 27. 22. 23. 18. 22. 21. 26. 28.\n",
      " 26. 31. 33. 30. 23. 29. 17. 24. 26. 27. 21. 26. 20. 22. 21. 26. 21. 21.\n",
      " 24. 24. 26. 32. 34. 30. 42. 33. 23. 27. 25. 28. 28. 33. 33. 28. 28. 36.\n",
      " 33. 28. 28. 33. 38. 33. 38. 36. 33. 33. 38. 36. 33. 38. 38. 33. 33. 38.\n",
      " 32. 33. 22. 24. 23. 27. 24. 18. 20. 19. 28. 19. 25. 25. 24. 27. 19. 25.\n",
      " 28. 25. 24. 21. 23. 28. 20. 18. 25. 28. 27. 20. 20. 17. 26. 21. 29. 29.\n",
      " 24. 23. 23. 29. 19. 23. 17. 23. 24. 25. 35. 33. 34. 36. 30. 28. 35. 24.\n",
      " 22. 30. 22. 22. 27. 23. 27. 29. 39. 28. 24. 23. 27. 21. 24. 20. 23. 20.\n",
      " 20. 26. 21. 22. 15. 34. 22. 24. 24. 22. 30. 24. 24. 20. 24. 21. 20. 27.\n",
      " 29. 18. 32. 21. 26. 31. 26. 21. 28. 24. 27. 21. 27. 24. 36. 21. 22. 21.\n",
      " 38. 40. 35. 24. 18. 23. 19. 26. 30. 27. 18. 29. 19. 21. 24. 31. 22. 19.\n",
      " 27. 26. 21. 26. 23. 26. 18. 19. 24. 33. 31. 23. 23. 20. 28. 26. 24. 24.\n",
      " 17. 28. 23. 24. 19. 15. 22. 23. 18. 21. 21. 21. 22. 25. 20. 24. 21. 26.\n",
      " 27. 26. 24. 21. 22. 23. 28. 32. 33. 24. 28. 30. 30. 27. 27. 22. 23. 18.\n",
      " 22. 21. 26. 28. 26. 31. 33. 30. 23. 29. 17. 24. 26. 27. 21. 26. 20. 22.\n",
      " 21. 26. 21. 21. 24. 24. 26. 32. 34. 30. 42. 33. 23. 27. 25. 28. 28. 33.\n",
      " 33. 28. 28. 36. 33. 28. 28. 33. 38. 33. 38. 36. 33. 33. 38. 36. 33. 38.\n",
      " 38. 33. 33. 38. 32. 33. 22. 24. 23. 27. 24. 18. 20. 19. 28. 19. 25. 25.\n",
      " 24. 27. 19. 25. 28. 25. 24. 21. 23. 28. 20. 18. 25. 28. 27. 20. 20. 17.\n",
      " 26. 21. 29. 29. 24. 23. 23. 29. 19. 23. 17. 23. 24. 25. 35. 33. 34. 36.\n",
      " 30. 28. 35. 24. 22. 30. 22. 22. 27. 23. 27. 29. 39. 28. 24. 23. 27. 21.\n",
      " 24. 20. 23. 20. 20. 26. 21. 22. 15. 34. 22. 24. 24. 22. 30. 24. 24. 20.\n",
      " 24. 21. 20. 27. 29. 18. 32. 21. 26. 31. 26. 21. 28. 24. 27. 21. 27. 24.\n",
      " 36. 21. 22. 21. 38. 40. 35. 24. 18. 23. 19. 26. 30. 27. 18. 29. 19. 21.\n",
      " 24. 31. 22. 19. 27. 26. 21. 26. 23. 26. 18. 19. 24. 33. 31. 23. 23. 20.\n",
      " 28. 26. 24. 24. 17. 28. 23. 24. 19. 15. 22. 23. 18. 21. 21. 21. 22. 25.\n",
      " 20. 24. 21. 26. 27. 26. 24. 21. 22. 23. 28. 32. 33. 24. 28. 30. 30. 27.\n",
      " 27. 22. 23. 18. 22. 21. 26. 28. 26. 31. 33. 30. 23. 29. 17. 24. 26. 27.\n",
      " 21. 26. 20. 23. 21. 26. 21. 21. 24. 24. 26. 32. 34. 30. 45. 33. 23. 27.\n",
      " 25. 28. 28. 33. 33. 28. 28. 36. 33. 28. 28. 33. 38. 33. 38. 36. 33. 33.\n",
      " 38. 36. 33. 38. 38. 33. 33. 38. 32. 33. 22. 25. 23. 27. 24. 18. 20. 19.\n",
      " 28. 19. 25. 25. 24. 27. 19. 25. 28. 25. 24. 21. 23. 28. 20. 18. 25. 28.\n",
      " 27. 20. 20. 17. 29. 21. 29. 29. 24. 23. 23. 29. 19. 23. 17. 23. 24. 25.\n",
      " 35. 33. 34. 36. 30. 28. 35. 24. 22. 30. 22. 25. 27. 23. 27. 30.]\n",
      "[ 8  8  6  8  8 10  8  7  7  8  7  8  6  8  7  6  7  6 11  8  9  4  4  9\n",
      "  8  7  6  7  6  6  8  7  4  8  7  8  8  8  8  6  6  6  6  6  6  6  8  9\n",
      "  5  4  5  7  6  8  5  6  7  6  6  8 10  6  8  8  6 10  8  6  5  5  4  9\n",
      "  7  6  7  7  7  7  7  6  7  7  4  4  6  6  7  4  6  7  8  5  7  9  5  6\n",
      "  6  8  8  6  8  8  8  8  8  7  8  8  6  8  7  7  7  7  9  9  5  7  7  8\n",
      "  8  6  6  7  5  7  6  6  7  8  8  8  6  7  7  6  8  7  9  8  8  7  6  8\n",
      "  7  7  7  8  7  7  5  6  6  7  7  7  6  7  8  6  7  8  7  6  5  7  6  7\n",
      "  6  7  7  6  5  6  8  8  6  8 10  8  9  7  7  8  9  7  7  8  7  7 10  7\n",
      "  7 10  8  5  6  8  9  8  7  6  6  6  6  8  7  8  6  7  8  6  8  5  5  6\n",
      "  9  8  6  6  7  8  8  7  6  6  6  5  5  6  8  8  7  8  6  6  6  7  8  8\n",
      "  6  8  8 10  8  7  7  8  7  8  6  8  7  6  7  6 11  8  9  4  4  9  8  7\n",
      "  6  7  6  6  8  7  4  8  7  8  8  8  8  6  6  6  6  6  6  6  8  9  5  4\n",
      "  5  7  6  8  5  6  7  6  6  8 10  6  8  8  6 10  8  6  5  5  4  9  7  6\n",
      "  7  7  7  7  7  6  7  7  4  4  6  6  7  4  6  7  8  5  7  9  5  6  6  8\n",
      "  8  6  8  8  8  8  8  7  8  8  6  8  7  7  7  7  9  9  5  7  7  8  8  6\n",
      "  6  7  5  7  6  6  7  8  8  8  6  7  7  6  8  7  9  8  8  7  6  8  7  7\n",
      "  7  8  7  7  5  6  6  7  7  7  6  7  8  6  7  8  7  6  5  7  6  7  6  7\n",
      "  7  6  5  6  8  8  6  8 10  8  9  7  7  8  9  7  7  8  7  7 10  7  7 10\n",
      "  8  5  6  8  9  8  7  6  6  6  6  8  7  8  6  7  8  6  8  5  5  6  9  8\n",
      "  6  6  7  8  8  7  6  6  6  5  5  6  8  8  7  8  6  6  6  7  8  8  6  8\n",
      "  8 10  8  7  7  8  7  8  6  8  7  6  7  6 11  8  9  4  4  9  8  7  6  7\n",
      "  6  6  8  7  4  8  7  8  8  8  8  6  6  6  6  6  6  6  8  9  5  4  5  7\n",
      "  6  8  5  6  7  6  6  8 10  6  8  8  6 10  8  6  5  5  4  9  7  6  7  7\n",
      "  7  7  7  6  7  7  4  4  6  6  7  4  6  7  8  5  7  9  5  6  6  8  8  6\n",
      "  8  8  8  8  8  7  8  8  6  8  7  7  7  7  9  9  5  7  7  8  8  6  6  7\n",
      "  5  7  6  6  7  8  8  8  6  7  7  6  8  7  9  8  8  7  6  8  7  7  7  8\n",
      "  7  7  5  6  6  7  7  7  6  7  8  6  7  8  7  6  5  7  6  7  6  7  7  6\n",
      "  5  6  8  8  6  8 10  8  9  7  7  8  9  7  7  8  7  7 10  7  7 10  8  5\n",
      "  6  8  9  8  7  6  6  6  6  8  7  8  6  7  8  6  8  5  5  6  9  8  6  6\n",
      "  7  8  8  7  6  6  6  5  5  6  8  8  7  8  6  6  6  7  8  8  6  8  8 10\n",
      "  8  7  7  8  7  8  6  8  7  6  7  6 11  8  9  4  4  9  8  7  6  7  6  6\n",
      "  8  7  4  8  7  8  8  8  8  6  6  6  6  6  6  6  8  9  5  4  5  7  6  8\n",
      "  5  6  7  6  6  8 10  6  8  8  6 10  8  6  5  5  4  9  7  6  7  7  7  7\n",
      "  7  6  7  7  4  4  6  6  7  4  6  7  8  5  7  9  5  6  6  8  8  6  8  8\n",
      "  8  8  8  7  8  8  6  8  7  7  7  7  9  9  5  7  7  8  8  6  6  7  5  7\n",
      "  6  6  7  8  8  8  6  7  7  6  8  7  9  8  8  7  6  8  7  7  7  8  7  7\n",
      "  5  6  6  7  7  7  6  7  8  6  7  8  7  6  5  7  6  7  6  7  7  6  5  6\n",
      "  8  8  6  8 10  8  9  7  7  8  9  7  7  8  7  7 10  7  7 10  8  5  6  8\n",
      "  9  8  7  6  6  6  6  8  7  8  6  7  8  6  8  5  5  6  9  8  6  6  7  8\n",
      "  8  7  6  6  6  5  5  6  8  8  7  8  6  6  6  7]\n"
     ]
    }
   ],
   "source": [
    "bmis = np.array(df[\"BMI\"].tolist())\n",
    "sleeps = np.array(df[\"Sleep\"].tolist())\n",
    "print(bmis)\n",
    "print(sleeps)"
   ]
  },
  {
   "cell_type": "code",
   "execution_count": 17,
   "metadata": {},
   "outputs": [
    {
     "data": {
      "text/plain": [
       "<matplotlib.collections.PathCollection at 0x281643b7a90>"
      ]
     },
     "execution_count": 17,
     "metadata": {},
     "output_type": "execute_result"
    },
    {
     "data": {
      "image/png": "[encoded data removed]",
      "text/plain": [
       "<Figure size 432x288 with 1 Axes>"
      ]
     },
     "metadata": {
      "needs_background": "light"
     },
     "output_type": "display_data"
    }
   ],
   "source": [
    "plt.scatter(sleeps, bmis)"
   ]
  },
  {
   "cell_type": "code",
   "execution_count": 18,
   "metadata": {},
   "outputs": [],
   "source": [
    "lr_model = PimLinearRegression(up_rate=10, dp=2)"
   ]
  },
  {
   "cell_type": "code",
   "execution_count": 19,
   "metadata": {},
   "outputs": [],
   "source": [
    "lr_model.fit(sleeps, bmis)"
   ]
  },
  {
   "cell_type": "code",
   "execution_count": 20,
   "metadata": {},
   "outputs": [
    {
     "data": {
      "image/png": "[encoded data removed]",
      "text/plain": [
       "<Figure size 432x288 with 1 Axes>"
      ]
     },
     "metadata": {
      "needs_background": "light"
     },
     "output_type": "display_data"
    }
   ],
   "source": [
    "lr_model.evaluation_graph(sleeps, bmis)"
   ]
  },
  {
   "cell_type": "code",
   "execution_count": 21,
   "metadata": {},
   "outputs": [
    {
     "data": {
      "text/plain": [
       "<matplotlib.collections.PathCollection at 0x281642b3550>"
      ]
     },
     "execution_count": 21,
     "metadata": {},
     "output_type": "execute_result"
    },
    {
     "data": {
      "image/png": "[encoded data removed]",
      "text/plain": [
       "<Figure size 432x288 with 1 Axes>"
      ]
     },
     "metadata": {
      "needs_background": "light"
     },
     "output_type": "display_data"
    }
   ],
   "source": [
    "X = 2 * np.random.rand(100, 1)\n",
    "y = 6 + 4 * X+np.random.randn(100, 1)\n",
    "\n",
    "X = np.ravel(X, order=\"C\")\n",
    "y = np.ravel(y, order=\"C\")\n",
    "\n",
    "plt.scatter(X, y)"
   ]
  },
  {
   "cell_type": "code",
   "execution_count": 22,
   "metadata": {},
   "outputs": [
    {
     "data": {
      "text/plain": [
       "<matplotlib.collections.PathCollection at 0x2816435e610>"
      ]
     },
     "execution_count": 22,
     "metadata": {},
     "output_type": "execute_result"
    },
    {
     "data": {
      "image/png": "[encoded data removed]",
      "text/plain": [
       "<Figure size 432x288 with 1 Axes>"
      ]
     },
     "metadata": {
      "needs_background": "light"
     },
     "output_type": "display_data"
    },
    {
     "data": {
      "image/png": "[encoded data removed]",
      "text/plain": [
       "<Figure size 432x288 with 1 Axes>"
      ]
     },
     "metadata": {
      "needs_background": "light"
     },
     "output_type": "display_data"
    }
   ],
   "source": [
    "plt.figure(0)\n",
    "plt.scatter(X, y, color=\"blue\")\n",
    "\n",
    "plt.figure(1)\n",
    "plt.scatter(X, y, color=\"blue\")\n",
    "data = list(zip(X, y))\n",
    "data = pd.DataFrame(data, columns=[\"X\", \"y\"])\n",
    "\n",
    "def duplicate(x):\n",
    "    duplicate_data = data[(data[\"X\"] > (x - 0.1)) & (data[\"X\"] < (x + 0.1))][\"y\"]\n",
    "    return sum(duplicate_data) / len(duplicate_data)\n",
    "\n",
    "data[\"y\"] = data[\"X\"].apply(lambda x: duplicate(x))\n",
    "data = data.drop_duplicates([\"y\"], keep=\"first\")\n",
    "data = data.reset_index(drop=True)\n",
    "plt.scatter(data.iloc[:, 0], data.iloc[:, 1], color=\"red\")"
   ]
  },
  {
   "cell_type": "code",
   "execution_count": 23,
   "metadata": {},
   "outputs": [],
   "source": [
    "lr_model = PimLinearRegression()"
   ]
  },
  {
   "cell_type": "code",
   "execution_count": 24,
   "metadata": {},
   "outputs": [],
   "source": [
    "lr_model.fit(X, y)"
   ]
  },
  {
   "cell_type": "code",
   "execution_count": 25,
   "metadata": {},
   "outputs": [
    {
     "data": {
      "image/png": "[encoded data removed]",
      "text/plain": [
       "<Figure size 432x288 with 1 Axes>"
      ]
     },
     "metadata": {
      "needs_background": "light"
     },
     "output_type": "display_data"
    }
   ],
   "source": [
    "lr_model.evaluation_graph(X, y)"
   ]
  }
 ],
 "metadata": {
  "kernelspec": {
   "display_name": "Python 3",
   "language": "python",
   "name": "python3"
  },
  "language_info": {
   "codemirror_mode": {
    "name": "ipython",
    "version": 3
   },
   "file_extension": ".py",
   "mimetype": "text/x-python",
   "name": "python",
   "nbconvert_exporter": "python",
   "pygments_lexer": "ipython3",
   "version": "3.8.1"
  }
 },
 "nbformat": 4,
 "nbformat_minor": 4
}
